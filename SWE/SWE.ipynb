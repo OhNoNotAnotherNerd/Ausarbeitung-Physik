{
 "cells": [
  {
   "cell_type": "code",
   "execution_count": null,
   "metadata": {},
   "outputs": [],
   "source": [
    "#Messwerte:\n",
    "import numpy as np\n",
    "#Zeit\n",
    "t_mess=np.linspace(0, 1900, 39)\n",
    "print(t_mess)\n",
    "#Spannungen:\n",
    "U_mess=[1.28, 1.5, 1.68, 1.9, 2.10, 2.29, 2.45, 2.63, 2.78, 2.92, 3.06, 3.19, 3.24, 3.24, 3.27, 3.31, 3.35, 3.36, 3.38, 3.41, 3.42, 3.44, 3.47, 3.48, 5.5, 3.52, 3.54, 3.56, 3.59, 3.59, 3.60, 3.63, 3.66, 3.67, 3.66, 3.70, 3.70, 3.73, 3.75]\n",
    "U_mess=np.array(U_mess)\n",
    "print(U_mess)\n",
    "#Beide Arrays sind gleich lang nix ist vergessen\n",
    "\n"
   ]
  },
  {
   "cell_type": "code",
   "execution_count": null,
   "metadata": {},
   "outputs": [],
   "source": [
    "#Fit der Eichpunkte:\n",
    "import scipy as sp\n",
    "import matplotlib.pyplot as plt\n",
    "import numpy as np\n",
    "T_eich=[69.4, 40.4, 0]\n",
    "U_eich=[2.6, 1.52, 0]\n",
    "\n",
    "def Eich_fit(x, a, b ,c ):\n",
    "    return a*x**2+b*x+c\n",
    "\n",
    "popt, pcov=sp.optimize.curve_fit(Eich_fit, T_eich, U_eich)\n",
    "print(popt)\n",
    "print(pcov)\n",
    "\n",
    "a_mod, b_mod, c_mod=popt\n",
    "x_mod=np.linspace(min(T_eich), max(T_eich), 501)\n",
    "y_mod=Eich_fit(x=x_mod, a=a_mod, b=b_mod, c=c_mod)\n",
    "\n",
    "\n",
    "labelmod=rf'fit: ${a_mod:.2f} \\cdot T^2+{b_mod:.2f} \\cdot T+ {c_mod:.2f}$'\n",
    "plt.plot(T_eich, U_eich, linestyle='', marker='o',label='Messwerte')\n",
    "plt.plot(x_mod ,y_mod, linestyle='-', label=labelmod)\n",
    "plt.legend()\n",
    "plt.grid(linestyle='-')\n",
    "plt.xlabel='Eichtemperatur [°C]'\n",
    "plt.ylabel='Eichspannung [mV]'\n",
    "\n",
    "plt.show"
   ]
  }
 ],
 "metadata": {
  "kernelspec": {
   "display_name": "Python 3",
   "language": "python",
   "name": "python3"
  },
  "language_info": {
   "codemirror_mode": {
    "name": "ipython",
    "version": 3
   },
   "file_extension": ".py",
   "mimetype": "text/x-python",
   "name": "python",
   "nbconvert_exporter": "python",
   "pygments_lexer": "ipython3",
   "version": "3.11.5"
  }
 },
 "nbformat": 4,
 "nbformat_minor": 2
}
