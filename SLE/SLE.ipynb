{
 "cells": [
  {
   "cell_type": "markdown",
   "metadata": {},
   "source": [
    "Versuch SLE - Bestimmung der spezifischen Ladung eines Elektrons\n"
   ]
  },
  {
   "cell_type": "markdown",
   "metadata": {},
   "source": [
    "Erste Aufgabe: Bestimmung der magnetischen Flussdichte:"
   ]
  },
  {
   "cell_type": "code",
   "execution_count": null,
   "metadata": {},
   "outputs": [],
   "source": []
  },
  {
   "cell_type": "code",
   "execution_count": null,
   "metadata": {},
   "outputs": [],
   "source": [
    "##David:\n",
    "\n",
    "import scipy as sp\n",
    "import numpy as np\n",
    "import matplotlib.pyplot as plt\n",
    "\n",
    "\n",
    "# B Feld aus Gl 11\n",
    "\n",
    "# Werte:\n",
    "d=0.15 #S.20\n",
    "z1=d/2\n",
    "z2=-d/2\n",
    "\n",
    "\n",
    "def B_z(I, z):\n",
    "    R=0.1475\n",
    "    N=124\n",
    "    l=0.025\n",
    "    mu=sp.constants.mu_0\n",
    "    B=I*(N*mu)/(2*l)*((z+l/2)/(np.sqrt(R**2+(z+l/2)**2))-(z-l/2)/np.sqrt(R**2+(z-l/2)**2))\n",
    "    return B\n",
    "\n",
    "\n",
    "B_ges=B_z(I=5, z=z1)+B_z(I=5, z=z2)\n",
    "print(B_ges)\n",
    "#Entspricht den Herstellerangaben\n",
    "\n",
    "#B Feld aus Hallspannung:\n",
    "U_hall=(0.2156, 0.2159, 0.2159, 0.2158, 0.2154, 0.2141)\n",
    "r_hall=(0,      0.01,   0.02,   0.03,   0.04,   0.05)\n",
    "\n",
    "\n",
    "\n",
    "def B_hall(U_hall):\n",
    "    eps=(3.125*10**(-3))#Aus S.18 table 4: (typ. sensitivity)| Skalierung wie in der Anleitung beschrieben| V/G\n",
    "    U_null=2.5 #Volt (Wegen Brückenschaltung irrelevant)\n",
    "    B_h=(U_hall)/(eps*2) #Gl 21 wird umgestellt.\n",
    "    return B_h*(10**(-4))#Umrechnung in Tesla\n",
    "\n",
    "B_h=np.absolute(B_hall(U_hall=U_hall[0]))\n",
    "print(B_h)\n",
    "#Funktioniert\n",
    "\n",
    "\n",
    "\n",
    "\n",
    "\n",
    "\n"
   ]
  },
  {
   "cell_type": "code",
   "execution_count": null,
   "metadata": {},
   "outputs": [],
   "source": [
    "import matplotlib.pyplot as plt\n",
    "\n",
    "#Berechnung der relativen Abweichung:\n",
    "#Hallspannung mit r\n",
    "U_hall=(0.2156, 0.2159, 0.2159, 0.2158, 0.2154, 0.2141)\n",
    "r_hall=(     0,   0.01,   0.02,   0.03,   0.04,   0.05)\n",
    "\n",
    "rel_ab=[]\n",
    "\n",
    "\n",
    "for i in range(len(U_hall)):\n",
    "    y=(U_hall[i]-U_hall[0])/U_hall[0]\n",
    "    rel_ab.append(y*100)\n",
    "\n",
    "plt.plot(r_hall, rel_ab, linestyle='', marker='o')\n",
    "plt.grid(visible=True, color='black', linewidth=0.5)\n",
    "plt.title('Relative Abweichung')\n",
    "plt.xlabel('Radius')\n",
    "plt.ylabel('Abweichung in %')\n",
    "plt.show()\n",
    "\n",
    "\n",
    "\n",
    "\n",
    "\n"
   ]
  },
  {
   "cell_type": "code",
   "execution_count": null,
   "metadata": {},
   "outputs": [],
   "source": [
    "#Berechnung e/m\n",
    "d=0.08 #Durchmesser in Metern\n",
    "U_B=295.7 #Beschleunigungsspannung in Volt\n",
    "B_z=(B_z(I=1.57, z=z1)+B_z(I=1.57, z=z2))*(1-rel_ab[4]) #B-Feld im Moment aus Gl. 11\n",
    "\n",
    "\n",
    "\n",
    "def spez_lad(U_B, B_z, d):\n",
    "    em=(2*U_B)/((B_z**2)*((d/2)**2))\n",
    "    return em\n",
    "\n",
    "em=spez_lad(U_B=U_B, d=d, B_z=B_z)\n",
    "\n",
    "\n",
    "print(em)\n",
    "\n"
   ]
  },
  {
   "cell_type": "code",
   "execution_count": null,
   "metadata": {},
   "outputs": [],
   "source": [
    "## Fehlerrechnung für das Bfeld mit Gl.9:\n",
    "import sympy as smp\n",
    "I, a_1, a_2, d, N, mu, relab=smp.symbols('I a_1 a_2 d N mu relab')\n",
    "delt_I, delt_a_1, delt_a_2, delt_d, delt_relab=smp.symbols('delt_I delt_a_1 delt_a_2 delt_d delt_relab')\n",
    "\n",
    "B=(I*(N*mu*(d/2)**2)/(((d/2)**2+a_1**2)**(3/2))+I*(N*mu*(d/2)**2)/(((d/2)**2+a_2**2)**(3/2)))*(1-relab)\n",
    "\n",
    "part_I=smp.diff(B, I)\n",
    "part_a_1=smp.diff(B, a_1)\n",
    "part_a_2=smp.diff(B, a_2)\n",
    "part_d=smp.diff(B, d)\n",
    "part_relab=smp.diff(B, relab)\n",
    "\n",
    "delt_B=smp.sqrt((part_I*delt_I)**2+(part_a_1*delt_a_1)**2+(part_a_2*delt_a_2)**2+(part_d*delt_d)**2+(part_relab*delt_relab)**2)\n",
    "fehlerI=1.57*0.02+5*0.01 #[AÖ]\n",
    "fehlerd=0.0\n",
    "R=0.1475\n",
    "\n",
    "FehlerB=delt_B.subs(I)\n",
    "\n",
    "#hab grad keine lust mehr \n",
    "\n",
    "\n"
   ]
  }
 ],
 "metadata": {
  "kernelspec": {
   "display_name": "Python 3",
   "language": "python",
   "name": "python3"
  },
  "language_info": {
   "codemirror_mode": {
    "name": "ipython",
    "version": 3
   },
   "file_extension": ".py",
   "mimetype": "text/x-python",
   "name": "python",
   "nbconvert_exporter": "python",
   "pygments_lexer": "ipython3",
   "version": "3.11.5"
  }
 },
 "nbformat": 4,
 "nbformat_minor": 2
}
