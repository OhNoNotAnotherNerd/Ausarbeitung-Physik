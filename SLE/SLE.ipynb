{
 "cells": [
  {
   "cell_type": "markdown",
   "metadata": {},
   "source": [
    "Versuch SLE - Bestimmung der spezifischen Ladung eines Elektrons\n"
   ]
  },
  {
   "cell_type": "markdown",
   "metadata": {},
   "source": [
    "Erste Aufgabe: Bestimmung der magnetischen Flussdichte:"
   ]
  },
  {
   "cell_type": "code",
   "execution_count": null,
   "metadata": {},
   "outputs": [],
   "source": []
  },
  {
   "cell_type": "code",
   "execution_count": null,
   "metadata": {},
   "outputs": [],
   "source": [
    "##David:\n",
    "\n",
    "import scipy as sp\n",
    "import numpy as np\n",
    "import matplotlib.pyplot as plt\n",
    "\n",
    "\n",
    "# B Feld aus Gl 11\n",
    "\n",
    "# Werte:\n",
    "d=0.15 #S.20\n",
    "z1=d/2\n",
    "z2=-d/2\n",
    "\n",
    "\n",
    "def B_z(I, z):\n",
    "    R=0.1475\n",
    "    N=124\n",
    "    l=0.025\n",
    "    mu=sp.constants.mu_0\n",
    "    B=I*(N*mu)/(2*l)*((z+l/2)/(np.sqrt(R**2+(z+l/2)**2))-(z-l/2)/np.sqrt(R**2+(z-l/2)**2))\n",
    "    return B\n",
    "\n",
    "\n",
    "B_ges=B_z(I=5, z=z1)+B_z(I=5, z=z2)\n",
    "print(B_ges)\n",
    "#Entspricht den Herstellerangaben\n",
    "\n",
    "#B Feld aus Hallspannung:\n",
    "U_hall=(0.2156, 0.2159, 0.2159, 0.2158, 0.2154, 0.2141)\n",
    "r_hall=(0, 0.01, 0.02, 0.03, 0.04, 0.05)\n",
    "\n",
    "\n",
    "\n",
    "def B_hall(U_hall):\n",
    "    eps=(3.125*10**(-3))*2 #Aus S.18 table 4: (typ. sensitivity)| Skalierung wie in der Anleitung beschrieben\n",
    "    U_null=2.5*2\n",
    "    B_h=(U_hall-U_null)/eps #Gl 21 wird umgestellt.\n",
    "    return B_h\n",
    "\n",
    "B_h=B_hall(U_hall=U_hall[0])\n",
    "print(B_h)\n",
    "#Funkiert nicht!!!!\n",
    "\n",
    "\n",
    "\n",
    "\n"
   ]
  }
 ],
 "metadata": {
  "kernelspec": {
   "display_name": "Python 3",
   "language": "python",
   "name": "python3"
  },
  "language_info": {
   "codemirror_mode": {
    "name": "ipython",
    "version": 3
   },
   "file_extension": ".py",
   "mimetype": "text/x-python",
   "name": "python",
   "nbconvert_exporter": "python",
   "pygments_lexer": "ipython3",
   "version": "3.11.5"
  }
 },
 "nbformat": 4,
 "nbformat_minor": 2
}
