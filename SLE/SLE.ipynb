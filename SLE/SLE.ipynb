{
 "cells": [
  {
   "cell_type": "markdown",
   "metadata": {},
   "source": [
    "Versuch SLE - Bestimmung der spezifischen Ladung eines Elektrons\n"
   ]
  },
  {
   "cell_type": "markdown",
   "metadata": {},
   "source": [
    "Erste Aufgabe: Bestimmung der magnetischen Flussdichte:"
   ]
  },
  {
   "cell_type": "code",
   "execution_count": null,
   "metadata": {},
   "outputs": [],
   "source": []
  },
  {
   "cell_type": "code",
   "execution_count": 84,
   "metadata": {},
   "outputs": [
    {
     "name": "stdout",
     "output_type": "stream",
     "text": [
      "0.003741399853782353\n",
      "0.0034496000000000006\n"
     ]
    }
   ],
   "source": [
    "##David:\n",
    "\n",
    "import scipy as sp\n",
    "import numpy as np\n",
    "import matplotlib.pyplot as plt\n",
    "\n",
    "\n",
    "# B Feld aus Gl 11\n",
    "\n",
    "# Werte:\n",
    "d=0.15 #S.20\n",
    "z1=d/2\n",
    "z2=-d/2\n",
    "\n",
    "\n",
    "def B_z(I, z):\n",
    "    R=0.1475\n",
    "    N=124\n",
    "    l=0.025\n",
    "    mu=sp.constants.mu_0\n",
    "    B=I*(N*mu)/(2*l)*((z+l/2)/(np.sqrt(R**2+(z+l/2)**2))-(z-l/2)/np.sqrt(R**2+(z-l/2)**2))\n",
    "    return B\n",
    "\n",
    "\n",
    "B_ges=B_z(I=5, z=z1)+B_z(I=5, z=z2)\n",
    "print(B_ges)\n",
    "#Entspricht den Herstellerangaben\n",
    "\n",
    "#B Feld aus Hallspannung:\n",
    "U_hall=(0.2156, 0.2159, 0.2159, 0.2158, 0.2154, 0.2141)\n",
    "r_hall=(0,      0.01,   0.02,   0.03,   0.04,   0.05)\n",
    "\n",
    "\n",
    "\n",
    "def B_hall(U_hall):\n",
    "    eps=(3.125*10**(-3))#Aus S.18 table 4: (typ. sensitivity)| Skalierung wie in der Anleitung beschrieben| V/G\n",
    "    U_null=2.5 #Volt (Wegen Brückenschaltung irrelevant)\n",
    "    B_h=(U_hall)/(eps*2) #Gl 21 wird umgestellt.\n",
    "    return B_h*(10**(-4))#Umrechnung in Tesla\n",
    "\n",
    "B_h=np.absolute(B_hall(U_hall=U_hall[0]))\n",
    "print(B_h)\n",
    "#Funktioniert\n",
    "\n",
    "\n",
    "\n",
    "\n",
    "\n",
    "\n"
   ]
  },
  {
   "cell_type": "code",
   "execution_count": 90,
   "metadata": {},
   "outputs": [
    {
     "data": {
      "image/png": "[encoded data removed]",
      "text/plain": [
       "<Figure size 640x480 with 1 Axes>"
      ]
     },
     "metadata": {},
     "output_type": "display_data"
    },
    {
     "name": "stdout",
     "output_type": "stream",
     "text": [
      "[0.0, 0.13914656771799383, 0.13914656771799383, 0.09276437847865397, -0.09276437847866684, -0.695732838589982]\n"
     ]
    }
   ],
   "source": [
    "import matplotlib.pyplot as plt\n",
    "\n",
    "#Berechnung der relativen Abweichung:\n",
    "#Hallspannung mit r\n",
    "U_hall=(0.2156, 0.2159, 0.2159, 0.2158, 0.2154, 0.2141)\n",
    "r_hall=(     0,   0.01,   0.02,   0.03,   0.04,   0.05)\n",
    "\n",
    "rel_ab=[]\n",
    "\n",
    "\n",
    "for i in range(len(U_hall)):\n",
    "    y=(U_hall[i]-U_hall[0])/U_hall[0]\n",
    "    rel_ab.append(y*100)\n",
    "\n",
    "plt.plot(r_hall, rel_ab, linestyle='', marker='o')\n",
    "plt.grid(visible=True, color='black', linewidth=0.5)\n",
    "plt.title('Relative Abweichung')\n",
    "plt.xlabel('Radius')\n",
    "plt.ylabel('Abweichung in %')\n",
    "plt.show()\n",
    "\n",
    "print(rel_ab)\n",
    "\n",
    "\n",
    "\n",
    "\n"
   ]
  },
  {
   "cell_type": "code",
   "execution_count": 86,
   "metadata": {},
   "outputs": [
    {
     "name": "stdout",
     "output_type": "stream",
     "text": [
      "267318135822.6302\n",
      "2.6731813582263015\n"
     ]
    }
   ],
   "source": [
    "\n",
    "#Berechnung e/m\n",
    "\n",
    "def B_z(I, z):\n",
    "    R=0.1475\n",
    "    N=124\n",
    "    l=0.025\n",
    "    mu=sp.constants.mu_0\n",
    "    B=I*(N*mu)/(2*l)*((z+l/2)/(np.sqrt(R**2+(z+l/2)**2))-(z-l/2)/np.sqrt(R**2+(z-l/2)**2))\n",
    "    return B\n",
    "\n",
    "\n",
    "d=0.08 #Durchmesser in Metern\n",
    "U_B=295.7 #Beschleunigungsspannung in Volt\n",
    "B_z=(B_z(I=1.57, z=z1)+B_z(I=1.57, z=z2))*(1-rel_ab[4]/100) #B-Feld im Moment aus Gl. 11\n",
    "\n",
    "\n",
    "\n",
    "def spez_lad(U_B, B_z, d):\n",
    "    em=(2*U_B)/(((B_z)**2)*((d/2)**2))\n",
    "    return em\n",
    "\n",
    "em=spez_lad(U_B=U_B, d=d, B_z=B_z)\n",
    "\n",
    "\n",
    "print(em)\n",
    "print(em*10**-11)\n",
    "\n"
   ]
  },
  {
   "cell_type": "code",
   "execution_count": 87,
   "metadata": {},
   "outputs": [
    {
     "name": "stdout",
     "output_type": "stream",
     "text": [
      "0.000326719888718966\n"
     ]
    }
   ],
   "source": [
    "## Fehlerrechnung für das Bfeld mit Gl.9:\n",
    "import sympy as smp\n",
    "\n",
    "\n",
    "def DELTA_B(I_val, delI_val, d_val, deld_val, R_val, delR_val, N_val, relab_val, delrelab_val):\n",
    "    I, d, R, N, mu, relab=smp.symbols('I d R N mu relab')\n",
    "    delt_I, delt_d, delt_R, delt_relab=smp.symbols('delt_I delt_d delt_R delt_relab')\n",
    "    B1=I*(N*mu*(R)**2)/((R**2+(d/2)**2)**(3/2))\n",
    "    B2=I*(N*mu*R**2)/((R**2-(d/2)**2)**(3/2))\n",
    "    B=(B1+B2)*(1-relab)\n",
    "    \n",
    "    part_I=smp.diff(B, I)\n",
    "    part_R=smp.diff(B, R)\n",
    "    part_d=smp.diff(B, d)\n",
    "    part_relab=smp.diff(B, relab)\n",
    "\n",
    "    delt_B=smp.sqrt((part_I*delt_I)**2+(part_R*delt_R)**2+(part_d*delt_d)**2+(part_relab*delt_relab)**2)\n",
    "\n",
    "    B_val=delt_B.subs(I, I_val).subs(delt_I, delI_val).subs(d, d_val).subs(delt_d, deld_val).subs(R, R_val).subs(delt_R, delR_val).subs(N, N_val).subs(relab, relab_val).subs(delt_relab, delrelab_val).subs(mu, 1.25663706212*10**-6)\n",
    "    return B_val\n",
    "\n",
    "error_Bz = DELTA_B(I_val=1.57, delI_val=90*10**-3, d_val=150*10**-3, deld_val=5*10**-3, R_val=147.5*10**-3, delR_val=5*10**-3, N_val=124, relab_val=-0.09276437847866684, delrelab_val =0)\n",
    "print(error_Bz)\n"
   ]
  },
  {
   "cell_type": "code",
   "execution_count": 88,
   "metadata": {},
   "outputs": [
    {
     "name": "stdout",
     "output_type": "stream",
     "text": [
      "26805147796.1480\n",
      "0.268051477961480 *10**11\n"
     ]
    }
   ],
   "source": [
    "#Fehlerrechnung für e/m\n",
    "\n",
    "def DELTA_spez_lad(U_val, delt_U_val, B_z_val, delt_B_z_val , r_val, delt_r_val): #U ist Beschleunigung, B_z ist Feld, r ist Radius der Bahn\n",
    "    U, B_z, r=smp.symbols('U B_z r')\n",
    "    delt_U, delt_B_z, delt_r=smp.symbols('delt_U delt_B_z delt_r')\n",
    "    em=(2*U)/((B_z**2)*(r**2))\n",
    "    part_U=smp.diff(em, U)\n",
    "    part_B_z=smp.diff(em, B_z)\n",
    "    part_r=smp.diff(em, r)\n",
    "    delta_em=smp.sqrt((part_U*delt_U)**2+(part_B_z*delt_B_z)**2+(part_r*delt_r)**2)\n",
    "    delta_em_val=delta_em.subs(U, U_val).subs(delt_U, delt_U_val).subs(B_z, B_z_val).subs(delt_B_z, delt_B_z_val).subs(r, r_val).subs(delt_r, delt_r_val)\n",
    "\n",
    "    return delta_em_val\n",
    "\n",
    "error_em=DELTA_spez_lad(U_val=295.7, delt_U_val=0.44785, B_z_val=0.003741399853782353, delt_B_z_val=0.000326719888718966, r_val=0.04, delt_r_val=0.02)\n",
    "\n",
    "print(error_em)\n",
    "print(f\"{error_em*10**-11} *10**11\")"
   ]
  },
  {
   "cell_type": "code",
   "execution_count": null,
   "metadata": {},
   "outputs": [],
   "source": []
  },
  {
   "cell_type": "markdown",
   "metadata": {},
   "source": [
    "0.0005 * 295.7 = 0.14785 V Fehler Messgerät\n",
    "\n",
    "Fehler Digits: 3 * 100*10**-3 = 300 mV\n",
    "\n",
    "Gesamtfehler: +- 0.44785 V"
   ]
  }
 ],
 "metadata": {
  "kernelspec": {
   "display_name": "Python 3",
   "language": "python",
   "name": "python3"
  },
  "language_info": {
   "codemirror_mode": {
    "name": "ipython",
    "version": 3
   },
   "file_extension": ".py",
   "mimetype": "text/x-python",
   "name": "python",
   "nbconvert_exporter": "python",
   "pygments_lexer": "ipython3",
   "version": "3.11.5"
  }
 },
 "nbformat": 4,
 "nbformat_minor": 2
}
