{
 "cells": [
  {
   "cell_type": "code",
   "execution_count": null,
   "id": "ce3378e9-b137-42b8-b8a7-d60d410ab79e",
   "metadata": {},
   "outputs": [],
   "source": [
    "import numpy as np\n",
    "import scipy as sp\n",
    "import matplotlib.pyplot as plt\n",
    "\n",
    "\n",
    "\n",
    "## 2. Versuch Daten in Arrays\n",
    "\n",
    "\n",
    "v2_small_timedata = [12.49, 12.40, 12.37, 12.41, 12.44] # Zeit in Sekunden\n",
    "v2_medium_timedata = [8.81, 8.80, 8.73, 8.83, 8.79]\n",
    "v2_big_timedata = [7.18, 7.12, 7.14, 7.14, 7.14, 7.14]\n",
    "\n",
    "grav_acceleration = 9.806 # +/- Unsicherheit 0.002\n",
    "\n",
    "height_over_sealevel = 520 ## in Meter\n",
    "\n",
    "rod = 92 # in cm +/- Ungenauigkeit 0.2 cm\n",
    "\n",
    "v2_small_mean_timedata = np.mean(v2_small_timedata)\n",
    "v2_medium_mean_timedata = np.mean(v2_medium_timedata)\n",
    "v2_big_mean_timedata = np.mean(v2_big_timedata)\n",
    "\n",
    "\n",
    "\n",
    "## 3. Versuch Daten in Arrays n = 4\n",
    "\n",
    "##Abstand d = 23 cm +/- 0.1 (klein) \n",
    "\n",
    "v3_small_timedata = [13.30, 13.00, 13.20, 13.28, 12,89] # d = 23.00 cm \n",
    "v3_medium_timedata = [17.94, 17.37, 18.05, 17.80, 18.07, 17.40] #d = 44.3 cm\n",
    "v3_big_timedata = [23.16, 23.08, 23.07,22.96, 23.07] # d = 72.2\n",
    "\n",
    "## Zeit Messfehler = 0.15 s\n"
   ]
  }
 ],
 "metadata": {
  "kernelspec": {
   "display_name": "Python 3 (ipykernel)",
   "language": "python",
   "name": "python3"
  },
  "language_info": {
   "codemirror_mode": {
    "name": "ipython",
    "version": 3
   },
   "file_extension": ".py",
   "mimetype": "text/x-python",
   "name": "python",
   "nbconvert_exporter": "python",
   "pygments_lexer": "ipython3",
   "version": "3.10.6"
  }
 },
 "nbformat": 4,
 "nbformat_minor": 5
}
