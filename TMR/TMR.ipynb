{
 "cells": [
  {
   "cell_type": "code",
   "execution_count": 16,
   "metadata": {},
   "outputs": [],
   "source": [
    "import numpy as np\n",
    "import scipy as sp\n",
    "import sympy as smp"
   ]
  },
  {
   "cell_type": "code",
   "execution_count": 17,
   "metadata": {},
   "outputs": [],
   "source": [
    "#Messwerte:\n",
    "#Massen[kg]:\n",
    "m_Scheibe=1085.8e-3\n",
    "m_Rad=1736.3e-3\n",
    "error_m=0.05e-3\n",
    "\n",
    "#Längen[m]:\n",
    "d_Scheibe=17.45e-2\n",
    "a_Rad=[9.97e-2, 10.115e-2]\n",
    "\n",
    "\n",
    "error_d_a=0.05e-3\n",
    "\n",
    "#Zeiten:\n",
    "\n",
    "#Scheibe:\n",
    "t_Scheibe_tors=[28.42, 28.26, 28.30, 28.17, 28.44, 28.09, 28.15, 28.28, 28.36, 28.29]\n",
    "t_Rad_tors=[30.15, 30.48, 30.21, 30.04, 30.08, 30.17, 30.13, 30.13, 30.09, 30.16, 30.15]\n",
    "t_Rad_ph=[19.76, 20.36, 19.44, 19.11, 19.52, 19.83, 19.56, 19.64, 19.56, 19.49]\n",
    "\n",
    "\n",
    "g=8.8070\n",
    "\n",
    "\n",
    "\n"
   ]
  },
  {
   "cell_type": "code",
   "execution_count": 18,
   "metadata": {},
   "outputs": [
    {
     "name": "stdout",
     "output_type": "stream",
     "text": [
      "0.00413286018125\n",
      "0.9425333333333334\n",
      "0.18366102894929276\n"
     ]
    }
   ],
   "source": [
    "#Berechnung D*:\n",
    "\n",
    "#Trägheitsmoment Scheibe\n",
    "J_Scheibe=0.5 * m_Scheibe * (d_Scheibe/2)**2\n",
    "print(J_Scheibe)\n",
    "\n",
    "#Die Dauer einer Schwingung:\n",
    "T_Scheibe=np.mean(t_Scheibe_tors)/30\n",
    "print(T_Scheibe)\n",
    "#D*\n",
    "\n",
    "D= (J_Scheibe * (2*np.pi)**2)/T_Scheibe**2\n",
    "print(D)\n",
    "\n",
    "\n",
    "\n"
   ]
  },
  {
   "cell_type": "code",
   "execution_count": 19,
   "metadata": {},
   "outputs": [
    {
     "name": "stdout",
     "output_type": "stream",
     "text": [
      "1.0054242424242423\n",
      "0.00470279428241196\n"
     ]
    }
   ],
   "source": [
    "#Berechnung J des Rads aus Torsions\n",
    "\n",
    "#Dauer einer Schwingung:\n",
    "T_Rad=np.mean(t_Rad_tors)/30\n",
    "print(T_Rad)\n",
    "\n",
    "\n",
    "J_Rad=(T_Rad/(2*np.pi))**2 * D\n",
    "\n",
    "print(J_Rad)\n"
   ]
  },
  {
   "cell_type": "code",
   "execution_count": 24,
   "metadata": {},
   "outputs": [
    {
     "name": "stdout",
     "output_type": "stream",
     "text": [
      "0.0502125\n",
      "0.6542333333333334\n",
      "0.003947006147856382\n"
     ]
    }
   ],
   "source": [
    "#Berechnung J des Rads aus pysischen Pendel\n",
    "\n",
    "#Abstand Achse Sp\n",
    "\n",
    "s=np.mean(a_Rad)/2\n",
    "print(s)\n",
    "\n",
    "#Dauer der Schwingung:\n",
    "\n",
    "T_ph=np.mean(t_Rad_ph)/30\n",
    "print(T_ph)\n",
    "#Trägheitsmoment\n",
    "J_Rad_ph=(T_ph/(2*np.pi))**2 * m_Rad* g * s - m_Rad*s**2\n",
    "print(J_Rad_ph)"
   ]
  },
  {
   "cell_type": "code",
   "execution_count": 26,
   "metadata": {},
   "outputs": [],
   "source": [
    "#Fehlerrechnung "
   ]
  }
 ],
 "metadata": {
  "kernelspec": {
   "display_name": "Python 3",
   "language": "python",
   "name": "python3"
  },
  "language_info": {
   "codemirror_mode": {
    "name": "ipython",
    "version": 3
   },
   "file_extension": ".py",
   "mimetype": "text/x-python",
   "name": "python",
   "nbconvert_exporter": "python",
   "pygments_lexer": "ipython3",
   "version": "3.11.5"
  }
 },
 "nbformat": 4,
 "nbformat_minor": 2
}
