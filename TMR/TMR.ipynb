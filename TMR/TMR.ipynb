{
 "cells": [
  {
   "cell_type": "code",
   "execution_count": 85,
   "metadata": {},
   "outputs": [],
   "source": [
    "import numpy as np\n",
    "import scipy as sp\n",
    "import sympy as smp"
   ]
  },
  {
   "cell_type": "code",
   "execution_count": 86,
   "metadata": {},
   "outputs": [],
   "source": [
    "#Messwerte:\n",
    "#Massen[kg]:\n",
    "m_Scheibe=1085.8e-3\n",
    "m_Rad=1736.3e-3\n",
    "error_m=0.05e-3\n",
    "\n",
    "#Längen[m]:\n",
    "d_Scheibe=17.45e-2\n",
    "a_Rad=[9.97e-2, 10.115e-2]\n",
    "\n",
    "\n",
    "error_d_a=0.05e-3\n",
    "\n",
    "#Zeiten:\n",
    "\n",
    "#Scheibe:\n",
    "t_Scheibe_tors=[28.42, 28.26, 28.30, 28.17, 28.44, 28.09, 28.15, 28.28, 28.36, 28.29]\n",
    "\n",
    "t_Rad_tors=[30.15, 30.48, 30.21, 30.04, 30.08, 30.17, 30.13, 30.13, 30.09, 30.16, 30.15]\n",
    "\n",
    "t_Rad_ph=[19.76, 20.36, 19.44, 19.11, 19.52, 19.83, 19.56, 19.64, 19.56, 19.49]\n",
    "\n",
    "\n",
    "g=8.8070\n",
    "\n",
    "\n",
    "\n"
   ]
  },
  {
   "cell_type": "code",
   "execution_count": 87,
   "metadata": {},
   "outputs": [
    {
     "name": "stdout",
     "output_type": "stream",
     "text": [
      "0.00413286018125\n",
      "0.9425333333333334\n",
      "0.18366102894929276\n"
     ]
    }
   ],
   "source": [
    "#Berechnung D*:\n",
    "\n",
    "#Trägheitsmoment Scheibe\n",
    "J_Scheibe=0.5 * m_Scheibe * (d_Scheibe/2)**2\n",
    "print(J_Scheibe)\n",
    "\n",
    "#Die Dauer einer Schwingung:\n",
    "T_Scheibe=np.mean(t_Scheibe_tors)/30\n",
    "print(T_Scheibe)\n",
    "#D*\n",
    "\n",
    "D= (J_Scheibe * (2*np.pi)**2)/T_Scheibe**2\n",
    "print(D)\n",
    "\n",
    "\n",
    "\n"
   ]
  },
  {
   "cell_type": "code",
   "execution_count": 88,
   "metadata": {},
   "outputs": [
    {
     "name": "stdout",
     "output_type": "stream",
     "text": [
      "1.0054242424242423\n",
      "0.00470279428241196\n"
     ]
    }
   ],
   "source": [
    "#Berechnung J des Rads aus Torsions\n",
    "\n",
    "#Dauer einer Schwingung:\n",
    "T_Rad=np.mean(t_Rad_tors)/30\n",
    "print(T_Rad)\n",
    "\n",
    "\n",
    "J_Rad=(T_Rad/(2*np.pi))**2 * D\n",
    "\n",
    "print(J_Rad)\n"
   ]
  },
  {
   "cell_type": "code",
   "execution_count": 89,
   "metadata": {},
   "outputs": [
    {
     "name": "stdout",
     "output_type": "stream",
     "text": [
      "0.0502125\n",
      "0.6542333333333334\n",
      "0.003947006147856382\n"
     ]
    }
   ],
   "source": [
    "#Berechnung J des Rads aus pysischen Pendel\n",
    "\n",
    "#Abstand Achse Sp\n",
    "\n",
    "s=np.mean(a_Rad)/2\n",
    "print(s)\n",
    "\n",
    "#Dauer der Schwingung:\n",
    "\n",
    "T_ph=np.mean(t_Rad_ph)/30\n",
    "print(T_ph)\n",
    "#Trägheitsmoment\n",
    "J_Rad_ph=(T_ph/(2*np.pi))**2 * m_Rad* g * s - m_Rad*s**2\n",
    "print(J_Rad_ph)"
   ]
  },
  {
   "cell_type": "code",
   "execution_count": 90,
   "metadata": {},
   "outputs": [
    {
     "name": "stdout",
     "output_type": "stream",
     "text": [
      "28.276000000000003\n",
      "0.0003807724442774039\n",
      "30.16272727272727\n",
      "0.00034896959936922084\n",
      "19.627000000000002\n",
      "0.0010760065629245902\n"
     ]
    }
   ],
   "source": [
    "#Fehlerrechnung \n",
    "mean_t_Scheibe=np.mean(t_Scheibe_tors)\n",
    "error_t_Scheibe=np.std(t_Scheibe_tors, ddof=1)/(len(t_Scheibe_tors)*30)\n",
    "\n",
    "print(mean_t_Scheibe)\n",
    "print(error_t_Scheibe)\n",
    "\n",
    "\n",
    "mean_t_Rad=np.mean(t_Rad_tors)\n",
    "error_t_Rad=np.std(t_Rad_tors, ddof=1)/(len(t_Rad_tors)*30)\n",
    "\n",
    "print(mean_t_Rad)\n",
    "print(error_t_Rad)\n",
    "\n",
    "\n",
    "mean_t_ph=np.mean(t_Rad_ph)\n",
    "error_t_ph=np.std(t_Rad_ph, ddof=1)/(len(t_Rad_ph)*30)\n",
    "\n",
    "print(mean_t_ph)\n",
    "print(error_t_ph)\n",
    "\n",
    "\n",
    "\n"
   ]
  },
  {
   "cell_type": "code",
   "execution_count": 91,
   "metadata": {},
   "outputs": [
    {
     "name": "stdout",
     "output_type": "stream",
     "text": [
      "J: ± 0.0000\n"
     ]
    }
   ],
   "source": [
    "#Fehler Scheibe\n",
    "\n",
    "def error_J_S(xm_s, em_s, xd, xed):\n",
    "    m, em, d, ed=smp.symbols('m em d ed' )\n",
    "    J=0.5 * m* (d/2)**2\n",
    "    dJ_dm = smp.diff(J, m)  # Partielle Ableitung von J nach m\n",
    "    dJ_dd = smp.diff(J, d)  # Partielle Ableitung von J nach d\n",
    "    \n",
    "    # Fehlerfortpflanzung\n",
    "    error_J = smp.sqrt((dJ_dm * em)**2 + (dJ_dd * ed)**2)\n",
    "    \n",
    "    error_J_value = error_J.evalf(subs={m: xm_s, em: em_s, d: xd, ed: xed})\n",
    "    \n",
    "    return error_J_value*10\n",
    "\n",
    "# Berechnung durchführen\n",
    "error_J_Scheibe = error_J_S(m_Scheibe, error_m, d_Scheibe, error_d_a)\n",
    "\n",
    "\n",
    "print(f\"J: ± {error_J_Scheibe:.4f}\")\n"
   ]
  },
  {
   "cell_type": "code",
   "execution_count": 92,
   "metadata": {},
   "outputs": [
    {
     "name": "stdout",
     "output_type": "stream",
     "text": [
      "0.00106626782735946\n"
     ]
    }
   ],
   "source": [
    "#Fehler D\n",
    "\n",
    "def error_D(J_Scheibe, eJ_Scheibe, T_Scheibe, eT_Scheibe):\n",
    "    # Definieren der Symbole\n",
    "    J, eJ, T, eT = smp.symbols('J eJ T eT')\n",
    "    \n",
    "    # Definiere die Formel für D\n",
    "    D = J * (2 * smp.pi)**2 / T**2\n",
    "    \n",
    "    # Berechnung der partiellen Ableitungen\n",
    "    dD_dJ = smp.diff(D, J)  # Partielle Ableitung von D nach J\n",
    "    dD_dT = smp.diff(D, T)  # Partielle Ableitung von D nach T\n",
    "    \n",
    "    # Fehlerfortpflanzung\n",
    "    error_D = smp.sqrt((dD_dJ * eJ)**2 + (dD_dT * eT)**2)\n",
    "    \n",
    "    # Evaluieren der Fehlerfortpflanzung\n",
    "    error_D_value = error_D.evalf(subs={J: J_Scheibe, eJ: eJ_Scheibe, T: T_Scheibe, eT: eT_Scheibe})\n",
    "    \n",
    "    return error_D_value\n",
    "\n",
    "D_error=error_D(J_Scheibe, error_J_Scheibe, T_Scheibe, error_t_Scheibe)\n",
    "print(D_error)"
   ]
  },
  {
   "cell_type": "code",
   "execution_count": 93,
   "metadata": {},
   "outputs": [
    {
     "name": "stdout",
     "output_type": "stream",
     "text": [
      "2.74971570895510e-5\n"
     ]
    }
   ],
   "source": [
    "def error_JRad(T_Rad, eT_Rad, xD, xeD):\n",
    "    # Definieren der Symbole\n",
    "    T, eT, D, eD = smp.symbols('T eT D eD')\n",
    "    \n",
    "    # Definiere die Formel für J_Rad\n",
    "    J_Rad = (T / (2 * smp.pi))**2 * D\n",
    "    \n",
    "    # Berechnung der partiellen Ableitungen\n",
    "    dJ_dT = smp.diff(J_Rad, T)  # Partielle Ableitung von J_Rad nach T\n",
    "    dJ_dD = smp.diff(J_Rad, D)  # Partielle Ableitung von J_Rad nach D\n",
    "    \n",
    "    # Fehlerfortpflanzung\n",
    "    error_JRad = smp.sqrt((dJ_dT * eT)**2 + (dJ_dD * eD)**2)\n",
    "    \n",
    "    # Evaluieren der Fehlerfortpflanzung\n",
    "    error_JRad_value = error_JRad.evalf(subs={T: T_Rad, eT: eT_Rad, D: xD, eD: xeD})\n",
    "    \n",
    "    return error_JRad_value\n",
    "\n",
    "error_J_rad=error_JRad(T_Rad, error_t_Rad, D, D_error) \n",
    "print(error_J_rad)"
   ]
  }
 ],
 "metadata": {
  "kernelspec": {
   "display_name": "Python 3",
   "language": "python",
   "name": "python3"
  },
  "language_info": {
   "codemirror_mode": {
    "name": "ipython",
    "version": 3
   },
   "file_extension": ".py",
   "mimetype": "text/x-python",
   "name": "python",
   "nbconvert_exporter": "python",
   "pygments_lexer": "ipython3",
   "version": "3.11.5"
  }
 },
 "nbformat": 4,
 "nbformat_minor": 2
}
